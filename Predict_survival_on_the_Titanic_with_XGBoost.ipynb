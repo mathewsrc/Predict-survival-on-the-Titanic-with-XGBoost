{
  "nbformat": 4,
  "nbformat_minor": 0,
  "metadata": {
    "colab": {
      "provenance": [],
      "include_colab_link": true
    },
    "kernelspec": {
      "name": "python3",
      "display_name": "Python 3"
    },
    "language_info": {
      "name": "python"
    }
  },
  "cells": [
    {
      "cell_type": "markdown",
      "metadata": {
        "id": "view-in-github",
        "colab_type": "text"
      },
      "source": [
        "<a href=\"https://colab.research.google.com/github/punkmic/Predict-survival-on-the-Titanic-with-XGBoost/blob/master/Predict_survival_on_the_Titanic_with_XGBoost.ipynb\" target=\"_parent\"><img src=\"https://colab.research.google.com/assets/colab-badge.svg\" alt=\"Open In Colab\"/></a>"
      ]
    },
    {
      "cell_type": "markdown",
      "source": [
        "# **Predicting who survives on the Titanic with XGBoost**"
      ],
      "metadata": {
        "id": "fhdEzsbvDLLa"
      }
    },
    {
      "cell_type": "markdown",
      "source": [
        "**Titanic**\n",
        "\n",
        "The RMS Titanic was a passenger ship that collided with an iceberg on April 14, 1912, during its maiden voyage from Southampton, England to New York City. The accident resulted in the deaths of more than 1,500 people, making it one of the deadliest maritime disasters in history."
      ],
      "metadata": {
        "id": "UmJ9wbtwagCO"
      }
    },
    {
      "cell_type": "markdown",
      "source": [
        "**XGBoost**\n",
        "\n",
        "XGBoost is an open-source software library for gradient boosting, a machine learning technique for regression and classification tasks. It was developed by Tianqi Chen at the University of Washington and has become one of the most widely used machine learning libraries in the world. XGBoost uses an optimized implementation of gradient boosting that is designed to be faster and more accurate than other gradient boosting libraries. Gradient boosting involves building a series of decision trees, with each tree learning from the mistakes made by the previous trees."
      ],
      "metadata": {
        "id": "eXOY_xLHal2f"
      }
    },
    {
      "cell_type": "markdown",
      "source": [
        "## **Clone remote repository from [Github](https://github.com)**"
      ],
      "metadata": {
        "id": "6UbfRXna8S3F"
      }
    },
    {
      "cell_type": "code",
      "source": [
        "!git clone https://github.com/punkmic/Predict-survival-on-the-Titanic-with-XGBoost.git"
      ],
      "metadata": {
        "colab": {
          "base_uri": "https://localhost:8080/"
        },
        "id": "RhtuDBPnV4kl",
        "outputId": "13a94f28-9e80-4a11-a6b0-312931c9f6ca"
      },
      "execution_count": 270,
      "outputs": [
        {
          "output_type": "stream",
          "name": "stdout",
          "text": [
            "fatal: destination path 'Predict-survival-on-the-Titanic-with-XGBoost' already exists and is not an empty directory.\n"
          ]
        }
      ]
    },
    {
      "cell_type": "markdown",
      "source": [
        "## **Import and install libraries**"
      ],
      "metadata": {
        "id": "TOmHtlKZ8g9f"
      }
    },
    {
      "cell_type": "code",
      "execution_count": 271,
      "metadata": {
        "id": "YuiZjjW8C9iL"
      },
      "outputs": [],
      "source": [
        "import numpy as np\n",
        "import pandas as pd\n",
        "import seaborn as sns\n",
        "import numpy as np\n",
        "from scipy.stats import uniform\n",
        "import matplotlib.pyplot as plt\n",
        "from sklearn.datasets import fetch_openml\n",
        "from sklearn.metrics import r2_score, accuracy_score\n",
        "from sklearn.model_selection import train_test_split, cross_val_score\n",
        "from sklearn.model_selection import RepeatedStratifiedKFold\n",
        "from sklearn.pipeline import Pipeline, make_pipeline\n",
        "from sklearn.decomposition import PCA\n",
        "from sklearn.impute import SimpleImputer, KNNImputer\n",
        "from sklearn.preprocessing import RobustScaler, OneHotEncoder\n",
        "from sklearn.compose import ColumnTransformer\n",
        "from sklearn.model_selection import RandomizedSearchCV\n",
        "from sklearn.metrics import classification_report, plot_confusion_matrix\n",
        "from sklearn.metrics import RocCurveDisplay\n",
        "try:\n",
        "  import xgboost as xgb\n",
        "except:\n",
        "  !pip install xgboost"
      ]
    },
    {
      "cell_type": "markdown",
      "source": [
        "## **Load dataset using fetch_openml method from sklean**"
      ],
      "metadata": {
        "id": "0wcY6fkxE05O"
      }
    },
    {
      "cell_type": "code",
      "source": [
        "DATASET = \"titanic\"\n",
        "X, y = fetch_openml(DATASET, version=1, as_frame=True, return_X_y=True)\n",
        "X.drop(['boat', 'body', 'home.dest'], axis=1, inplace=True)"
      ],
      "metadata": {
        "id": "ZnaQBNGYEJvY"
      },
      "execution_count": 272,
      "outputs": []
    },
    {
      "cell_type": "markdown",
      "source": [
        "## **Print table of features**"
      ],
      "metadata": {
        "id": "PH0B1CEGcHK4"
      }
    },
    {
      "cell_type": "code",
      "source": [
        "# read table features\n",
        "pd.read_csv('/content/Predict-survival-on-the-Titanic-with-XGBoost/tintanic_features.csv')"
      ],
      "metadata": {
        "id": "c6WDXjwycCsE",
        "outputId": "e5203243-c75e-4095-d10b-1b08c4640701",
        "colab": {
          "base_uri": "https://localhost:8080/",
          "height": 363
        }
      },
      "execution_count": 273,
      "outputs": [
        {
          "output_type": "execute_result",
          "data": {
            "text/plain": [
              "   Variable                                  Definition  \\\n",
              "0  survival                                    Survival   \n",
              "1    pclass                                Ticket class   \n",
              "2       sex                                         Sex   \n",
              "3       Age                                Age in years   \n",
              "4     sibsp  # of siblings / spouses aboard the Titanic   \n",
              "5     parch  # of parents / children aboard the Titanic   \n",
              "6    ticket                               Ticket number   \n",
              "7      fare                              Passenger fare   \n",
              "8     cabin                                Cabin number   \n",
              "9  embarked                         Port of Embarkation   \n",
              "\n",
              "                                              Key  \n",
              "0                                 0 = No, 1 = Yes  \n",
              "1                       1 = 1st, 2 = 2nd, 3 = 3rd  \n",
              "2                                             NaN  \n",
              "3                                             NaN  \n",
              "4                                             NaN  \n",
              "5                                             NaN  \n",
              "6                                             NaN  \n",
              "7                                             NaN  \n",
              "8                                             NaN  \n",
              "9  C = Cherbourg, Q = Queenstown, S = Southampton  "
            ],
            "text/html": [
              "\n",
              "  <div id=\"df-82a3c005-9416-43e6-af27-a85fe48c05f4\">\n",
              "    <div class=\"colab-df-container\">\n",
              "      <div>\n",
              "<style scoped>\n",
              "    .dataframe tbody tr th:only-of-type {\n",
              "        vertical-align: middle;\n",
              "    }\n",
              "\n",
              "    .dataframe tbody tr th {\n",
              "        vertical-align: top;\n",
              "    }\n",
              "\n",
              "    .dataframe thead th {\n",
              "        text-align: right;\n",
              "    }\n",
              "</style>\n",
              "<table border=\"1\" class=\"dataframe\">\n",
              "  <thead>\n",
              "    <tr style=\"text-align: right;\">\n",
              "      <th></th>\n",
              "      <th>Variable</th>\n",
              "      <th>Definition</th>\n",
              "      <th>Key</th>\n",
              "    </tr>\n",
              "  </thead>\n",
              "  <tbody>\n",
              "    <tr>\n",
              "      <th>0</th>\n",
              "      <td>survival</td>\n",
              "      <td>Survival</td>\n",
              "      <td>0 = No, 1 = Yes</td>\n",
              "    </tr>\n",
              "    <tr>\n",
              "      <th>1</th>\n",
              "      <td>pclass</td>\n",
              "      <td>Ticket class</td>\n",
              "      <td>1 = 1st, 2 = 2nd, 3 = 3rd</td>\n",
              "    </tr>\n",
              "    <tr>\n",
              "      <th>2</th>\n",
              "      <td>sex</td>\n",
              "      <td>Sex</td>\n",
              "      <td>NaN</td>\n",
              "    </tr>\n",
              "    <tr>\n",
              "      <th>3</th>\n",
              "      <td>Age</td>\n",
              "      <td>Age in years</td>\n",
              "      <td>NaN</td>\n",
              "    </tr>\n",
              "    <tr>\n",
              "      <th>4</th>\n",
              "      <td>sibsp</td>\n",
              "      <td># of siblings / spouses aboard the Titanic</td>\n",
              "      <td>NaN</td>\n",
              "    </tr>\n",
              "    <tr>\n",
              "      <th>5</th>\n",
              "      <td>parch</td>\n",
              "      <td># of parents / children aboard the Titanic</td>\n",
              "      <td>NaN</td>\n",
              "    </tr>\n",
              "    <tr>\n",
              "      <th>6</th>\n",
              "      <td>ticket</td>\n",
              "      <td>Ticket number</td>\n",
              "      <td>NaN</td>\n",
              "    </tr>\n",
              "    <tr>\n",
              "      <th>7</th>\n",
              "      <td>fare</td>\n",
              "      <td>Passenger fare</td>\n",
              "      <td>NaN</td>\n",
              "    </tr>\n",
              "    <tr>\n",
              "      <th>8</th>\n",
              "      <td>cabin</td>\n",
              "      <td>Cabin number</td>\n",
              "      <td>NaN</td>\n",
              "    </tr>\n",
              "    <tr>\n",
              "      <th>9</th>\n",
              "      <td>embarked</td>\n",
              "      <td>Port of Embarkation</td>\n",
              "      <td>C = Cherbourg, Q = Queenstown, S = Southampton</td>\n",
              "    </tr>\n",
              "  </tbody>\n",
              "</table>\n",
              "</div>\n",
              "      <button class=\"colab-df-convert\" onclick=\"convertToInteractive('df-82a3c005-9416-43e6-af27-a85fe48c05f4')\"\n",
              "              title=\"Convert this dataframe to an interactive table.\"\n",
              "              style=\"display:none;\">\n",
              "        \n",
              "  <svg xmlns=\"http://www.w3.org/2000/svg\" height=\"24px\"viewBox=\"0 0 24 24\"\n",
              "       width=\"24px\">\n",
              "    <path d=\"M0 0h24v24H0V0z\" fill=\"none\"/>\n",
              "    <path d=\"M18.56 5.44l.94 2.06.94-2.06 2.06-.94-2.06-.94-.94-2.06-.94 2.06-2.06.94zm-11 1L8.5 8.5l.94-2.06 2.06-.94-2.06-.94L8.5 2.5l-.94 2.06-2.06.94zm10 10l.94 2.06.94-2.06 2.06-.94-2.06-.94-.94-2.06-.94 2.06-2.06.94z\"/><path d=\"M17.41 7.96l-1.37-1.37c-.4-.4-.92-.59-1.43-.59-.52 0-1.04.2-1.43.59L10.3 9.45l-7.72 7.72c-.78.78-.78 2.05 0 2.83L4 21.41c.39.39.9.59 1.41.59.51 0 1.02-.2 1.41-.59l7.78-7.78 2.81-2.81c.8-.78.8-2.07 0-2.86zM5.41 20L4 18.59l7.72-7.72 1.47 1.35L5.41 20z\"/>\n",
              "  </svg>\n",
              "      </button>\n",
              "      \n",
              "  <style>\n",
              "    .colab-df-container {\n",
              "      display:flex;\n",
              "      flex-wrap:wrap;\n",
              "      gap: 12px;\n",
              "    }\n",
              "\n",
              "    .colab-df-convert {\n",
              "      background-color: #E8F0FE;\n",
              "      border: none;\n",
              "      border-radius: 50%;\n",
              "      cursor: pointer;\n",
              "      display: none;\n",
              "      fill: #1967D2;\n",
              "      height: 32px;\n",
              "      padding: 0 0 0 0;\n",
              "      width: 32px;\n",
              "    }\n",
              "\n",
              "    .colab-df-convert:hover {\n",
              "      background-color: #E2EBFA;\n",
              "      box-shadow: 0px 1px 2px rgba(60, 64, 67, 0.3), 0px 1px 3px 1px rgba(60, 64, 67, 0.15);\n",
              "      fill: #174EA6;\n",
              "    }\n",
              "\n",
              "    [theme=dark] .colab-df-convert {\n",
              "      background-color: #3B4455;\n",
              "      fill: #D2E3FC;\n",
              "    }\n",
              "\n",
              "    [theme=dark] .colab-df-convert:hover {\n",
              "      background-color: #434B5C;\n",
              "      box-shadow: 0px 1px 3px 1px rgba(0, 0, 0, 0.15);\n",
              "      filter: drop-shadow(0px 1px 2px rgba(0, 0, 0, 0.3));\n",
              "      fill: #FFFFFF;\n",
              "    }\n",
              "  </style>\n",
              "\n",
              "      <script>\n",
              "        const buttonEl =\n",
              "          document.querySelector('#df-82a3c005-9416-43e6-af27-a85fe48c05f4 button.colab-df-convert');\n",
              "        buttonEl.style.display =\n",
              "          google.colab.kernel.accessAllowed ? 'block' : 'none';\n",
              "\n",
              "        async function convertToInteractive(key) {\n",
              "          const element = document.querySelector('#df-82a3c005-9416-43e6-af27-a85fe48c05f4');\n",
              "          const dataTable =\n",
              "            await google.colab.kernel.invokeFunction('convertToInteractive',\n",
              "                                                     [key], {});\n",
              "          if (!dataTable) return;\n",
              "\n",
              "          const docLinkHtml = 'Like what you see? Visit the ' +\n",
              "            '<a target=\"_blank\" href=https://colab.research.google.com/notebooks/data_table.ipynb>data table notebook</a>'\n",
              "            + ' to learn more about interactive tables.';\n",
              "          element.innerHTML = '';\n",
              "          dataTable['output_type'] = 'display_data';\n",
              "          await google.colab.output.renderOutput(dataTable, element);\n",
              "          const docLink = document.createElement('div');\n",
              "          docLink.innerHTML = docLinkHtml;\n",
              "          element.appendChild(docLink);\n",
              "        }\n",
              "      </script>\n",
              "    </div>\n",
              "  </div>\n",
              "  "
            ]
          },
          "metadata": {},
          "execution_count": 273
        }
      ]
    },
    {
      "cell_type": "markdown",
      "source": [
        "## **Split data into train, validation and test**"
      ],
      "metadata": {
        "id": "xtGLKnPxE9IV"
      }
    },
    {
      "cell_type": "code",
      "source": [
        "# split data into train and test\n",
        "X_train, X_test, y_train, y_test = train_test_split(X, y, test_size=0.2, stratify=y, random_state=42)\n",
        "\n",
        "# split data into train and validation\n",
        "X_train, X_val, y_train, y_val = train_test_split(X, y, test_size=0.25, stratify=y, random_state=42)"
      ],
      "metadata": {
        "id": "8YTEgK4yEV7t"
      },
      "execution_count": 274,
      "outputs": []
    },
    {
      "cell_type": "code",
      "source": [
        "# Print information\n",
        "X_train.info()"
      ],
      "metadata": {
        "colab": {
          "base_uri": "https://localhost:8080/"
        },
        "id": "dToJLd1jNvnQ",
        "outputId": "76cf3d9d-bca1-4fcb-afad-40edea5bc1e0"
      },
      "execution_count": 275,
      "outputs": [
        {
          "output_type": "stream",
          "name": "stdout",
          "text": [
            "<class 'pandas.core.frame.DataFrame'>\n",
            "Int64Index: 981 entries, 1216 to 2\n",
            "Data columns (total 10 columns):\n",
            " #   Column    Non-Null Count  Dtype   \n",
            "---  ------    --------------  -----   \n",
            " 0   pclass    981 non-null    float64 \n",
            " 1   name      981 non-null    object  \n",
            " 2   sex       981 non-null    category\n",
            " 3   age       782 non-null    float64 \n",
            " 4   sibsp     981 non-null    float64 \n",
            " 5   parch     981 non-null    float64 \n",
            " 6   ticket    981 non-null    object  \n",
            " 7   fare      980 non-null    float64 \n",
            " 8   cabin     212 non-null    object  \n",
            " 9   embarked  981 non-null    category\n",
            "dtypes: category(2), float64(5), object(3)\n",
            "memory usage: 71.1+ KB\n"
          ]
        }
      ]
    },
    {
      "cell_type": "code",
      "source": [
        "# Print the first top 3 rows\n",
        "X_train.head(3)"
      ],
      "metadata": {
        "colab": {
          "base_uri": "https://localhost:8080/",
          "height": 143
        },
        "id": "z2h3zqCtPagc",
        "outputId": "49407748-d427-4a08-8145-09db66e448e9"
      },
      "execution_count": 276,
      "outputs": [
        {
          "output_type": "execute_result",
          "data": {
            "text/plain": [
              "      pclass                                             name     sex   age  \\\n",
              "1216     3.0                               Smyth, Miss. Julia  female   NaN   \n",
              "819      3.0                         Glynn, Miss. Mary Agatha  female   NaN   \n",
              "1286     3.0  Whabee, Mrs. George Joseph (Shawneene Abi-Saab)  female  38.0   \n",
              "\n",
              "      sibsp  parch  ticket    fare cabin embarked  \n",
              "1216    0.0    0.0  335432  7.7333  None        Q  \n",
              "819     0.0    0.0  335677  7.7500  None        Q  \n",
              "1286    0.0    0.0    2688  7.2292  None        C  "
            ],
            "text/html": [
              "\n",
              "  <div id=\"df-14b5e099-2e28-49f1-acb2-2961f59116aa\">\n",
              "    <div class=\"colab-df-container\">\n",
              "      <div>\n",
              "<style scoped>\n",
              "    .dataframe tbody tr th:only-of-type {\n",
              "        vertical-align: middle;\n",
              "    }\n",
              "\n",
              "    .dataframe tbody tr th {\n",
              "        vertical-align: top;\n",
              "    }\n",
              "\n",
              "    .dataframe thead th {\n",
              "        text-align: right;\n",
              "    }\n",
              "</style>\n",
              "<table border=\"1\" class=\"dataframe\">\n",
              "  <thead>\n",
              "    <tr style=\"text-align: right;\">\n",
              "      <th></th>\n",
              "      <th>pclass</th>\n",
              "      <th>name</th>\n",
              "      <th>sex</th>\n",
              "      <th>age</th>\n",
              "      <th>sibsp</th>\n",
              "      <th>parch</th>\n",
              "      <th>ticket</th>\n",
              "      <th>fare</th>\n",
              "      <th>cabin</th>\n",
              "      <th>embarked</th>\n",
              "    </tr>\n",
              "  </thead>\n",
              "  <tbody>\n",
              "    <tr>\n",
              "      <th>1216</th>\n",
              "      <td>3.0</td>\n",
              "      <td>Smyth, Miss. Julia</td>\n",
              "      <td>female</td>\n",
              "      <td>NaN</td>\n",
              "      <td>0.0</td>\n",
              "      <td>0.0</td>\n",
              "      <td>335432</td>\n",
              "      <td>7.7333</td>\n",
              "      <td>None</td>\n",
              "      <td>Q</td>\n",
              "    </tr>\n",
              "    <tr>\n",
              "      <th>819</th>\n",
              "      <td>3.0</td>\n",
              "      <td>Glynn, Miss. Mary Agatha</td>\n",
              "      <td>female</td>\n",
              "      <td>NaN</td>\n",
              "      <td>0.0</td>\n",
              "      <td>0.0</td>\n",
              "      <td>335677</td>\n",
              "      <td>7.7500</td>\n",
              "      <td>None</td>\n",
              "      <td>Q</td>\n",
              "    </tr>\n",
              "    <tr>\n",
              "      <th>1286</th>\n",
              "      <td>3.0</td>\n",
              "      <td>Whabee, Mrs. George Joseph (Shawneene Abi-Saab)</td>\n",
              "      <td>female</td>\n",
              "      <td>38.0</td>\n",
              "      <td>0.0</td>\n",
              "      <td>0.0</td>\n",
              "      <td>2688</td>\n",
              "      <td>7.2292</td>\n",
              "      <td>None</td>\n",
              "      <td>C</td>\n",
              "    </tr>\n",
              "  </tbody>\n",
              "</table>\n",
              "</div>\n",
              "      <button class=\"colab-df-convert\" onclick=\"convertToInteractive('df-14b5e099-2e28-49f1-acb2-2961f59116aa')\"\n",
              "              title=\"Convert this dataframe to an interactive table.\"\n",
              "              style=\"display:none;\">\n",
              "        \n",
              "  <svg xmlns=\"http://www.w3.org/2000/svg\" height=\"24px\"viewBox=\"0 0 24 24\"\n",
              "       width=\"24px\">\n",
              "    <path d=\"M0 0h24v24H0V0z\" fill=\"none\"/>\n",
              "    <path d=\"M18.56 5.44l.94 2.06.94-2.06 2.06-.94-2.06-.94-.94-2.06-.94 2.06-2.06.94zm-11 1L8.5 8.5l.94-2.06 2.06-.94-2.06-.94L8.5 2.5l-.94 2.06-2.06.94zm10 10l.94 2.06.94-2.06 2.06-.94-2.06-.94-.94-2.06-.94 2.06-2.06.94z\"/><path d=\"M17.41 7.96l-1.37-1.37c-.4-.4-.92-.59-1.43-.59-.52 0-1.04.2-1.43.59L10.3 9.45l-7.72 7.72c-.78.78-.78 2.05 0 2.83L4 21.41c.39.39.9.59 1.41.59.51 0 1.02-.2 1.41-.59l7.78-7.78 2.81-2.81c.8-.78.8-2.07 0-2.86zM5.41 20L4 18.59l7.72-7.72 1.47 1.35L5.41 20z\"/>\n",
              "  </svg>\n",
              "      </button>\n",
              "      \n",
              "  <style>\n",
              "    .colab-df-container {\n",
              "      display:flex;\n",
              "      flex-wrap:wrap;\n",
              "      gap: 12px;\n",
              "    }\n",
              "\n",
              "    .colab-df-convert {\n",
              "      background-color: #E8F0FE;\n",
              "      border: none;\n",
              "      border-radius: 50%;\n",
              "      cursor: pointer;\n",
              "      display: none;\n",
              "      fill: #1967D2;\n",
              "      height: 32px;\n",
              "      padding: 0 0 0 0;\n",
              "      width: 32px;\n",
              "    }\n",
              "\n",
              "    .colab-df-convert:hover {\n",
              "      background-color: #E2EBFA;\n",
              "      box-shadow: 0px 1px 2px rgba(60, 64, 67, 0.3), 0px 1px 3px 1px rgba(60, 64, 67, 0.15);\n",
              "      fill: #174EA6;\n",
              "    }\n",
              "\n",
              "    [theme=dark] .colab-df-convert {\n",
              "      background-color: #3B4455;\n",
              "      fill: #D2E3FC;\n",
              "    }\n",
              "\n",
              "    [theme=dark] .colab-df-convert:hover {\n",
              "      background-color: #434B5C;\n",
              "      box-shadow: 0px 1px 3px 1px rgba(0, 0, 0, 0.15);\n",
              "      filter: drop-shadow(0px 1px 2px rgba(0, 0, 0, 0.3));\n",
              "      fill: #FFFFFF;\n",
              "    }\n",
              "  </style>\n",
              "\n",
              "      <script>\n",
              "        const buttonEl =\n",
              "          document.querySelector('#df-14b5e099-2e28-49f1-acb2-2961f59116aa button.colab-df-convert');\n",
              "        buttonEl.style.display =\n",
              "          google.colab.kernel.accessAllowed ? 'block' : 'none';\n",
              "\n",
              "        async function convertToInteractive(key) {\n",
              "          const element = document.querySelector('#df-14b5e099-2e28-49f1-acb2-2961f59116aa');\n",
              "          const dataTable =\n",
              "            await google.colab.kernel.invokeFunction('convertToInteractive',\n",
              "                                                     [key], {});\n",
              "          if (!dataTable) return;\n",
              "\n",
              "          const docLinkHtml = 'Like what you see? Visit the ' +\n",
              "            '<a target=\"_blank\" href=https://colab.research.google.com/notebooks/data_table.ipynb>data table notebook</a>'\n",
              "            + ' to learn more about interactive tables.';\n",
              "          element.innerHTML = '';\n",
              "          dataTable['output_type'] = 'display_data';\n",
              "          await google.colab.output.renderOutput(dataTable, element);\n",
              "          const docLink = document.createElement('div');\n",
              "          docLink.innerHTML = docLinkHtml;\n",
              "          element.appendChild(docLink);\n",
              "        }\n",
              "      </script>\n",
              "    </div>\n",
              "  </div>\n",
              "  "
            ]
          },
          "metadata": {},
          "execution_count": 276
        }
      ]
    },
    {
      "cell_type": "markdown",
      "source": [
        "## **Remove missing values**\n"
      ],
      "metadata": {
        "id": "LGsJhmKaFC4H"
      }
    },
    {
      "cell_type": "code",
      "source": [
        "# Check missing values\n",
        "X_train.isnull().sum() / len(X_train) * 100"
      ],
      "metadata": {
        "colab": {
          "base_uri": "https://localhost:8080/"
        },
        "id": "iuVGflotFGIe",
        "outputId": "8e67fef4-960b-478a-ca6a-c0c4b9a46269"
      },
      "execution_count": 277,
      "outputs": [
        {
          "output_type": "execute_result",
          "data": {
            "text/plain": [
              "pclass       0.000000\n",
              "name         0.000000\n",
              "sex          0.000000\n",
              "age         20.285423\n",
              "sibsp        0.000000\n",
              "parch        0.000000\n",
              "ticket       0.000000\n",
              "fare         0.101937\n",
              "cabin       78.389399\n",
              "embarked     0.000000\n",
              "dtype: float64"
            ]
          },
          "metadata": {},
          "execution_count": 277
        }
      ]
    },
    {
      "cell_type": "markdown",
      "source": [
        "Observe that approximately 78% of rows have no information about the cabin that's said let's drop rows having missing cabin value."
      ],
      "metadata": {
        "id": "9nzpWiPvGs1H"
      }
    },
    {
      "cell_type": "code",
      "source": [
        "# Drop cabin feature\n",
        "X_train.drop(['cabin'], axis=1, inplace=True)\n",
        "X_test.drop(['cabin'], axis=1, inplace=True)"
      ],
      "metadata": {
        "id": "QtvsNVVfGkhX"
      },
      "execution_count": 278,
      "outputs": []
    },
    {
      "cell_type": "markdown",
      "source": [
        "## **Compute correlation between features**\n",
        "\n",
        "Correlation is a statistical measure that describes the strength of a linear relationship between two variables. It can be useful for selecting features to feed into a machine learning model, as highly correlated features may contain redundant information and can negatively impact model performance."
      ],
      "metadata": {
        "id": "CngHg57HIvlP"
      }
    },
    {
      "cell_type": "code",
      "source": [
        "# Concat X_train and y_train\n",
        "X_comb = pd.concat([X_train, y_train.astype(float)], axis=1)\n",
        "\n",
        "# Compute the Pearson correlation coefficient between the features\n",
        "corr = X_comb.corr(method='pearson')\n",
        "\n",
        "# Plot the correlation heatmap\n",
        "sns.heatmap(corr, annot=True, cmap = \"coolwarm\")\n",
        "plt.show()"
      ],
      "metadata": {
        "colab": {
          "base_uri": "https://localhost:8080/",
          "height": 269
        },
        "id": "udYeommmJkkY",
        "outputId": "288419bf-2d52-4c60-bf1f-186e0d3ea90e"
      },
      "execution_count": 279,
      "outputs": [
        {
          "output_type": "display_data",
          "data": {
            "text/plain": [
              "<Figure size 432x288 with 2 Axes>"
            ],
            "image/png": "[encoded data removed]"
          },
          "metadata": {
            "needs_background": "light"
          }
        }
      ]
    },
    {
      "cell_type": "markdown",
      "source": [
        "As the heatmap shows, there is a weak correlation between parch and sibsp features. One way to solve this problem is to use feature engineering to create a new feature. Feature engineering is the process of designing and creating features that can be used to train machine learning models. It involves selecting relevant features from raw data, extracting and constructing new features from existing ones, and transforming features to make them more suitable for modeling."
      ],
      "metadata": {
        "id": "sDkV-UdEQ0bM"
      }
    },
    {
      "cell_type": "markdown",
      "source": [
        "## **Feature Engineering**"
      ],
      "metadata": {
        "id": "fgQuUPzeZx96"
      }
    },
    {
      "cell_type": "markdown",
      "source": [
        "We can combine parch and sibsp into a new feature, called family_size. After we create a new feature called single_person and set 1 if the passenger is alone in the ship or 0 if not."
      ],
      "metadata": {
        "id": "Mr7HsXtcbhMo"
      }
    },
    {
      "cell_type": "code",
      "source": [
        "for dataset in [X_train, X_test]:\n",
        "    dataset['family_size'] = dataset['parch'] + dataset['sibsp']\n",
        "    dataset.drop(['parch', 'sibsp'], axis=1, inplace=True)\n",
        "    dataset['single_person'] = 1\n",
        "    dataset['single_person'].loc[dataset['family_size'] > 1] = 0\n",
        "\n",
        "X_train.head()"
      ],
      "metadata": {
        "colab": {
          "base_uri": "https://localhost:8080/",
          "height": 297
        },
        "id": "hr260UdoUNXf",
        "outputId": "93e05f5d-58e3-45c7-a8f7-331645a7cf2a"
      },
      "execution_count": 280,
      "outputs": [
        {
          "output_type": "stream",
          "name": "stderr",
          "text": [
            "/usr/local/lib/python3.8/dist-packages/pandas/core/indexing.py:1732: SettingWithCopyWarning: \n",
            "A value is trying to be set on a copy of a slice from a DataFrame\n",
            "\n",
            "See the caveats in the documentation: https://pandas.pydata.org/pandas-docs/stable/user_guide/indexing.html#returning-a-view-versus-a-copy\n",
            "  self._setitem_single_block(indexer, value, name)\n"
          ]
        },
        {
          "output_type": "execute_result",
          "data": {
            "text/plain": [
              "      pclass                                             name     sex   age  \\\n",
              "1216     3.0                               Smyth, Miss. Julia  female   NaN   \n",
              "819      3.0                         Glynn, Miss. Mary Agatha  female   NaN   \n",
              "1286     3.0  Whabee, Mrs. George Joseph (Shawneene Abi-Saab)  female  38.0   \n",
              "1280     3.0                                  Vovk, Mr. Janko    male  22.0   \n",
              "761      3.0                        de Pelsmaeker, Mr. Alfons    male  16.0   \n",
              "\n",
              "      ticket    fare embarked  family_size  single_person  \n",
              "1216  335432  7.7333        Q          0.0              1  \n",
              "819   335677  7.7500        Q          0.0              1  \n",
              "1286    2688  7.2292        C          0.0              1  \n",
              "1280  349252  7.8958        S          0.0              1  \n",
              "761   345778  9.5000        S          0.0              1  "
            ],
            "text/html": [
              "\n",
              "  <div id=\"df-4fa3f0e7-af49-4afa-880a-93f0917387ea\">\n",
              "    <div class=\"colab-df-container\">\n",
              "      <div>\n",
              "<style scoped>\n",
              "    .dataframe tbody tr th:only-of-type {\n",
              "        vertical-align: middle;\n",
              "    }\n",
              "\n",
              "    .dataframe tbody tr th {\n",
              "        vertical-align: top;\n",
              "    }\n",
              "\n",
              "    .dataframe thead th {\n",
              "        text-align: right;\n",
              "    }\n",
              "</style>\n",
              "<table border=\"1\" class=\"dataframe\">\n",
              "  <thead>\n",
              "    <tr style=\"text-align: right;\">\n",
              "      <th></th>\n",
              "      <th>pclass</th>\n",
              "      <th>name</th>\n",
              "      <th>sex</th>\n",
              "      <th>age</th>\n",
              "      <th>ticket</th>\n",
              "      <th>fare</th>\n",
              "      <th>embarked</th>\n",
              "      <th>family_size</th>\n",
              "      <th>single_person</th>\n",
              "    </tr>\n",
              "  </thead>\n",
              "  <tbody>\n",
              "    <tr>\n",
              "      <th>1216</th>\n",
              "      <td>3.0</td>\n",
              "      <td>Smyth, Miss. Julia</td>\n",
              "      <td>female</td>\n",
              "      <td>NaN</td>\n",
              "      <td>335432</td>\n",
              "      <td>7.7333</td>\n",
              "      <td>Q</td>\n",
              "      <td>0.0</td>\n",
              "      <td>1</td>\n",
              "    </tr>\n",
              "    <tr>\n",
              "      <th>819</th>\n",
              "      <td>3.0</td>\n",
              "      <td>Glynn, Miss. Mary Agatha</td>\n",
              "      <td>female</td>\n",
              "      <td>NaN</td>\n",
              "      <td>335677</td>\n",
              "      <td>7.7500</td>\n",
              "      <td>Q</td>\n",
              "      <td>0.0</td>\n",
              "      <td>1</td>\n",
              "    </tr>\n",
              "    <tr>\n",
              "      <th>1286</th>\n",
              "      <td>3.0</td>\n",
              "      <td>Whabee, Mrs. George Joseph (Shawneene Abi-Saab)</td>\n",
              "      <td>female</td>\n",
              "      <td>38.0</td>\n",
              "      <td>2688</td>\n",
              "      <td>7.2292</td>\n",
              "      <td>C</td>\n",
              "      <td>0.0</td>\n",
              "      <td>1</td>\n",
              "    </tr>\n",
              "    <tr>\n",
              "      <th>1280</th>\n",
              "      <td>3.0</td>\n",
              "      <td>Vovk, Mr. Janko</td>\n",
              "      <td>male</td>\n",
              "      <td>22.0</td>\n",
              "      <td>349252</td>\n",
              "      <td>7.8958</td>\n",
              "      <td>S</td>\n",
              "      <td>0.0</td>\n",
              "      <td>1</td>\n",
              "    </tr>\n",
              "    <tr>\n",
              "      <th>761</th>\n",
              "      <td>3.0</td>\n",
              "      <td>de Pelsmaeker, Mr. Alfons</td>\n",
              "      <td>male</td>\n",
              "      <td>16.0</td>\n",
              "      <td>345778</td>\n",
              "      <td>9.5000</td>\n",
              "      <td>S</td>\n",
              "      <td>0.0</td>\n",
              "      <td>1</td>\n",
              "    </tr>\n",
              "  </tbody>\n",
              "</table>\n",
              "</div>\n",
              "      <button class=\"colab-df-convert\" onclick=\"convertToInteractive('df-4fa3f0e7-af49-4afa-880a-93f0917387ea')\"\n",
              "              title=\"Convert this dataframe to an interactive table.\"\n",
              "              style=\"display:none;\">\n",
              "        \n",
              "  <svg xmlns=\"http://www.w3.org/2000/svg\" height=\"24px\"viewBox=\"0 0 24 24\"\n",
              "       width=\"24px\">\n",
              "    <path d=\"M0 0h24v24H0V0z\" fill=\"none\"/>\n",
              "    <path d=\"M18.56 5.44l.94 2.06.94-2.06 2.06-.94-2.06-.94-.94-2.06-.94 2.06-2.06.94zm-11 1L8.5 8.5l.94-2.06 2.06-.94-2.06-.94L8.5 2.5l-.94 2.06-2.06.94zm10 10l.94 2.06.94-2.06 2.06-.94-2.06-.94-.94-2.06-.94 2.06-2.06.94z\"/><path d=\"M17.41 7.96l-1.37-1.37c-.4-.4-.92-.59-1.43-.59-.52 0-1.04.2-1.43.59L10.3 9.45l-7.72 7.72c-.78.78-.78 2.05 0 2.83L4 21.41c.39.39.9.59 1.41.59.51 0 1.02-.2 1.41-.59l7.78-7.78 2.81-2.81c.8-.78.8-2.07 0-2.86zM5.41 20L4 18.59l7.72-7.72 1.47 1.35L5.41 20z\"/>\n",
              "  </svg>\n",
              "      </button>\n",
              "      \n",
              "  <style>\n",
              "    .colab-df-container {\n",
              "      display:flex;\n",
              "      flex-wrap:wrap;\n",
              "      gap: 12px;\n",
              "    }\n",
              "\n",
              "    .colab-df-convert {\n",
              "      background-color: #E8F0FE;\n",
              "      border: none;\n",
              "      border-radius: 50%;\n",
              "      cursor: pointer;\n",
              "      display: none;\n",
              "      fill: #1967D2;\n",
              "      height: 32px;\n",
              "      padding: 0 0 0 0;\n",
              "      width: 32px;\n",
              "    }\n",
              "\n",
              "    .colab-df-convert:hover {\n",
              "      background-color: #E2EBFA;\n",
              "      box-shadow: 0px 1px 2px rgba(60, 64, 67, 0.3), 0px 1px 3px 1px rgba(60, 64, 67, 0.15);\n",
              "      fill: #174EA6;\n",
              "    }\n",
              "\n",
              "    [theme=dark] .colab-df-convert {\n",
              "      background-color: #3B4455;\n",
              "      fill: #D2E3FC;\n",
              "    }\n",
              "\n",
              "    [theme=dark] .colab-df-convert:hover {\n",
              "      background-color: #434B5C;\n",
              "      box-shadow: 0px 1px 3px 1px rgba(0, 0, 0, 0.15);\n",
              "      filter: drop-shadow(0px 1px 2px rgba(0, 0, 0, 0.3));\n",
              "      fill: #FFFFFF;\n",
              "    }\n",
              "  </style>\n",
              "\n",
              "      <script>\n",
              "        const buttonEl =\n",
              "          document.querySelector('#df-4fa3f0e7-af49-4afa-880a-93f0917387ea button.colab-df-convert');\n",
              "        buttonEl.style.display =\n",
              "          google.colab.kernel.accessAllowed ? 'block' : 'none';\n",
              "\n",
              "        async function convertToInteractive(key) {\n",
              "          const element = document.querySelector('#df-4fa3f0e7-af49-4afa-880a-93f0917387ea');\n",
              "          const dataTable =\n",
              "            await google.colab.kernel.invokeFunction('convertToInteractive',\n",
              "                                                     [key], {});\n",
              "          if (!dataTable) return;\n",
              "\n",
              "          const docLinkHtml = 'Like what you see? Visit the ' +\n",
              "            '<a target=\"_blank\" href=https://colab.research.google.com/notebooks/data_table.ipynb>data table notebook</a>'\n",
              "            + ' to learn more about interactive tables.';\n",
              "          element.innerHTML = '';\n",
              "          dataTable['output_type'] = 'display_data';\n",
              "          await google.colab.output.renderOutput(dataTable, element);\n",
              "          const docLink = document.createElement('div');\n",
              "          docLink.innerHTML = docLinkHtml;\n",
              "          element.appendChild(docLink);\n",
              "        }\n",
              "      </script>\n",
              "    </div>\n",
              "  </div>\n",
              "  "
            ]
          },
          "metadata": {},
          "execution_count": 280
        }
      ]
    },
    {
      "cell_type": "markdown",
      "source": [
        "## **Pipeline**"
      ],
      "metadata": {
        "id": "VDknjATxgSs1"
      }
    },
    {
      "cell_type": "markdown",
      "source": [
        "### Fill missing values using Scikit-learn Pipelines"
      ],
      "metadata": {
        "id": "9cHjrdEPcffh"
      }
    },
    {
      "cell_type": "markdown",
      "source": [
        "**Categorical features**"
      ],
      "metadata": {
        "id": "5218YdApqWxY"
      }
    },
    {
      "cell_type": "markdown",
      "source": [
        "Now let's use scikit-learn Pipeline class with three steps: inputer, one hot encoder and principal component analysis. First, we are going to replace missing values using the SimpleImputer transformer class, Then, we are going to transform categorical features into numerical using the OneHotEncoder transformer class as most machine learning models cannot accept non-numerical values as input. Finally, we are going to apply principal component analysis technique using the PCA class.  PCA has a n_components parameter which specifies the number of principal components to keep when using the PCA class for dimensionality reduction. Here we are going to pass 10 as argument."
      ],
      "metadata": {
        "id": "lGrxZDhgqbG-"
      }
    },
    {
      "cell_type": "code",
      "source": [
        "categorical_cols = ['embarked', 'sex', 'pclass', 'name', 'single_person']\n",
        "\n",
        "cat_pipeline = Pipeline(steps=[('imputer', SimpleImputer(strategy='most_frequent')),\n",
        "                               ('encoder', OneHotEncoder(handle_unknown='ignore', sparse=False)),\n",
        "                               ('reducer', PCA(n_components=10, random_state=42))])"
      ],
      "metadata": {
        "id": "wQ3Xsv8HclzB"
      },
      "execution_count": 281,
      "outputs": []
    },
    {
      "cell_type": "markdown",
      "source": [
        "**Pipeline** is a class which allows you to chain multiple processing steps together and apply them to a dataset in a single, convenient object. Pipelines are a collection of tuples containing a name and an estimator object. The estimator object can be a transforme which applies a transformation to the data or model.\n",
        "\n",
        "**SimpleInputer** is a class that fill missing values using the argument passed to it's strategy parameter. SimpleImputer class accepts three different strategy option: mean, median, or most frequent value of each column.\n",
        "\n",
        "**OneHotEncoder** is a transformer class that converts categorical variables into a numerical format that can be used in machine learning models. It does this by creating a new binary column for each unique category in the data.\n",
        "\n",
        "**Principal Component Analysis (PCA)** PCA is a technique for dimensionality reduction which identifies the most important features also called principal components in machine learning. It is a linear transformation that projects the data onto a lower-dimensional space while preserving as much of the original variance as possible.\n",
        "\n"
      ],
      "metadata": {
        "id": "Nq66MeBvdE0x"
      }
    },
    {
      "cell_type": "markdown",
      "source": [
        "**Numerical features**"
      ],
      "metadata": {
        "id": "lfLaU1y-qdge"
      }
    },
    {
      "cell_type": "markdown",
      "source": [
        "Again we are going to use scikit-learn Pipeline to replace missing values and apply normalization."
      ],
      "metadata": {
        "id": "4ePdPokYqf0n"
      }
    },
    {
      "cell_type": "code",
      "source": [
        "numerical_cols = ['age', 'fare', 'family_size']\n",
        "num_pipeline = Pipeline(steps=[('imputer', KNNImputer(n_neighbors=5)),\n",
        "                               ('scaler', RobustScaler())])"
      ],
      "metadata": {
        "id": "LF5y4Ylelh7A"
      },
      "execution_count": 282,
      "outputs": []
    },
    {
      "cell_type": "markdown",
      "source": [
        "**KNNImputer** is a transformer class that uses the k-Nearest Neighbors algorithm to impute missing values based on the values of the nearest neighbors in the feature. It can be more accurate than SimpleImputer, but it is also slower to fit and transform the data. \n",
        "\n",
        "**RobustScaler** is a transformer class that scale numerical features using statistics that are robust to outliers, such as the median and interquartile range. It is very useful when the data has a high level of noise or outliers. Scaling the features is important for several reasons: 1) Some models are sensitive to the scale of the features, and can perform poorly if the features are not scaled 2) Scaling the features can help to normalize the data and make it more suitable for certain types of models 3) Scaling the features can also help to reduce the impact of outliers or skewed distributions in the data."
      ],
      "metadata": {
        "id": "s4r2EDGDrEXf"
      }
    },
    {
      "cell_type": "markdown",
      "source": [
        "**Putting all together**"
      ],
      "metadata": {
        "id": "4lrXKCAJzgHk"
      }
    },
    {
      "cell_type": "code",
      "source": [
        "col_transformer = ColumnTransformer(transformers=[('numerical', num_pipeline, numerical_cols),('categorical', cat_pipeline, categorical_cols)])\n",
        "\n",
        "# create a pipeline that transform data and make predictions\n",
        "pipeline = Pipeline(steps=[('col_transformer', col_transformer), ('classifier', xgb.XGBClassifier(random_state=10))])"
      ],
      "metadata": {
        "id": "vbjTuWpmulix"
      },
      "execution_count": 283,
      "outputs": []
    },
    {
      "cell_type": "markdown",
      "source": [
        "**ColumnTransformer** is a class that applies different transformations to different columns of a dataset, and it can be used as part of a scikit-learn pipeline to streamline your machine learning workflow."
      ],
      "metadata": {
        "id": "fdAbrtIl0NMW"
      }
    },
    {
      "cell_type": "markdown",
      "source": [
        "## **Train model**"
      ],
      "metadata": {
        "id": "-RbMEpLT5BXA"
      }
    },
    {
      "cell_type": "code",
      "source": [
        "# fit the pipeline to the training data\n",
        "pipeline.fit(X_train, y_train)"
      ],
      "metadata": {
        "id": "4-JtfJ-j1HRv",
        "outputId": "00f244d2-f9b8-44da-b9bd-380988d10c92",
        "colab": {
          "base_uri": "https://localhost:8080/"
        }
      },
      "execution_count": 284,
      "outputs": [
        {
          "output_type": "execute_result",
          "data": {
            "text/plain": [
              "Pipeline(steps=[('col_transformer',\n",
              "                 ColumnTransformer(transformers=[('numerical',\n",
              "                                                  Pipeline(steps=[('imputer',\n",
              "                                                                   KNNImputer()),\n",
              "                                                                  ('scaler',\n",
              "                                                                   RobustScaler())]),\n",
              "                                                  ['age', 'fare',\n",
              "                                                   'family_size']),\n",
              "                                                 ('categorical',\n",
              "                                                  Pipeline(steps=[('imputer',\n",
              "                                                                   SimpleImputer(strategy='most_frequent')),\n",
              "                                                                  ('encoder',\n",
              "                                                                   OneHotEncoder(handle_unknown='ignore',\n",
              "                                                                                 sparse=False)),\n",
              "                                                                  ('reducer',\n",
              "                                                                   PCA(n_components=10,\n",
              "                                                                       random_state=42))]),\n",
              "                                                  ['embarked', 'sex', 'pclass',\n",
              "                                                   'name',\n",
              "                                                   'single_person'])])),\n",
              "                ('classifier', XGBClassifier(random_state=10))])"
            ]
          },
          "metadata": {},
          "execution_count": 284
        }
      ]
    },
    {
      "cell_type": "markdown",
      "source": [
        "## **Model evaluation before hyperparameter optimization**"
      ],
      "metadata": {
        "id": "09Tb3knSF0JS"
      }
    },
    {
      "cell_type": "code",
      "source": [
        "# create the cross-validation strategy\n",
        "cv = RepeatedStratifiedKFold(n_splits=9, n_repeats=3, random_state=0)\n",
        "cross_val_score(pipeline, X_train, y_train, cv=cv, scoring=\"accuracy\").mean()"
      ],
      "metadata": {
        "id": "3ldO3KLAF2S9",
        "outputId": "5a099ea2-16fd-4906-a21a-070145229974",
        "colab": {
          "base_uri": "https://localhost:8080/"
        }
      },
      "execution_count": 285,
      "outputs": [
        {
          "output_type": "execute_result",
          "data": {
            "text/plain": [
              "0.7978253482840637"
            ]
          },
          "metadata": {},
          "execution_count": 285
        }
      ]
    },
    {
      "cell_type": "code",
      "source": [
        "def find_best_split(splits= list(range(2,20))):\n",
        "  scores = []\n",
        "  best_score = 0\n",
        "  best_split = 0\n",
        "  for n in splits:\n",
        "    cv = RepeatedStratifiedKFold(n_splits=n, n_repeats=3, random_state=0)\n",
        "    score = cross_val_score(pipeline, X_train, y_train, cv=cv, scoring=\"accuracy\").mean()\n",
        "    scores.append(score)\n",
        "    if score > best_score:\n",
        "      best_score = score\n",
        "      best_split = n\n",
        "\n",
        "  plt.plot(splits, scores)\n",
        "  plt.xlabel('Number of Splits')\n",
        "  plt.ylabel('Cross-Validated Accuracy')\n",
        "  plt.show()\n",
        "  print()\n",
        "  print(f\"Best split number: {best_split}\")\n",
        "  return best_split\n"
      ],
      "metadata": {
        "id": "GG5CupGtqyUO"
      },
      "execution_count": 286,
      "outputs": []
    },
    {
      "cell_type": "code",
      "source": [
        "n_split = find_best_split(splits= list(range(2,20)))\n",
        "cv = RepeatedStratifiedKFold(n_splits=n_split, n_repeats=3, random_state=0)\n",
        "accuracy = cross_val_score(pipeline, X_train, y_train, cv=cv, scoring=\"accuracy\").mean()\n",
        "print()\n",
        "print(f\"Accuracy: {accuracy}\")"
      ],
      "metadata": {
        "id": "TQ6rvyjJyQz6",
        "outputId": "75a45382-69ea-4222-dbc2-e6ff8501d5a0",
        "colab": {
          "base_uri": "https://localhost:8080/",
          "height": 352
        }
      },
      "execution_count": 287,
      "outputs": [
        {
          "output_type": "display_data",
          "data": {
            "text/plain": [
              "<Figure size 432x288 with 1 Axes>"
            ],
            "image/png": "[encoded data removed]"
          },
          "metadata": {
            "needs_background": "light"
          }
        },
        {
          "output_type": "stream",
          "name": "stdout",
          "text": [
            "\n",
            "Best split number: 9\n",
            "\n",
            "Accuracy: 0.7978253482840637\n"
          ]
        }
      ]
    },
    {
      "cell_type": "markdown",
      "source": [
        "**RepeatedStratifiedKFold** is a cross-validation strategy that can be used to evaluate the performance of a machine learning model. It is a variation of the StratifiedKFold strategy, with the added ability to run the cross-validation process multiple times with different random splits of the data. In RepeatedStratifiedKFold, the data is split into K folds, where K is specified by the user. The StratifiedKFold strategy ensures that the proportion of samples belonging to each class is approximately the same across all the folds. This is useful when the classes are imbalanced, as it helps to ensure that all the classes are represented in each fold."
      ],
      "metadata": {
        "id": "xsnRdnzRl8mx"
      }
    },
    {
      "cell_type": "markdown",
      "source": [
        "## **Hyperparameter Search**\n",
        "\n",
        "Hyperparameter search, also known as hyperparameter optimization, is the process of tuning the hyperparameters of a machine learning model to achieve the best performance on a given dataset. Hyperparameters are values that are set prior to training a model and control the behavior and learning process of the model. Examples of hyperparameters include the learning rate (learning_rate), maximum depth (max_depth), and the number of estimators (n_estimators) in a XGBoost model."
      ],
      "metadata": {
        "id": "hO95h3LY6ufO"
      }
    },
    {
      "cell_type": "code",
      "source": [
        "xgb_dist = {'classifier__learning_rate': uniform(0.01, 0.1),\n",
        "              'classifier__max_depth': range(3, 10),\n",
        "              'classifier__n_estimators': range(50, 200),\n",
        "              'classifier__subsample': uniform(0.5, 0.5),\n",
        "              'classifier__colsample_bytree': uniform(0.5, 0.5),\n",
        "              'classifier__reg_lambda': uniform(0, 1)}\n",
        "\n",
        "num_transformer_dist = {'col_transformer__numerical__imputer__n_neighbors': list(range(2, 25)),\n",
        "                        'col_transformer__numerical__imputer__add_indicator': [True, False]}\n",
        "\n",
        "cat_transformer_dist = {'col_transformer__categorical__imputer__strategy': ['most_frequent', 'constant'],\n",
        "                        'col_transformer__categorical__imputer__add_indicator': [True, False],\n",
        "                        'col_transformer__categorical__reducer__n_components': list(range(2, 25))}\n",
        "\n",
        "param_dist = {**num_transformer_dist, **cat_transformer_dist, **xgb_dist}\n",
        "\n",
        "# Create the cross-validation strategy\n",
        "cv = RepeatedStratifiedKFold(n_splits=n_split, n_repeats=3, random_state=0)\n",
        "\n",
        "# create a RandomizedSearchCV object\n",
        "random_search = RandomizedSearchCV(pipeline, param_dist, cv=cv, scoring='accuracy', n_iter=10) # scoring = 'accuracy' 'roc_auc'\n",
        "\n",
        "# fit the random search to the training data\n",
        "random_search.fit(X_train, y_train)\n",
        "\n",
        "print(f\"Best score: {random_search.best_score_}\")\n",
        "print(f\"Best parameters: {random_search.best_params_}\")"
      ],
      "metadata": {
        "id": "QnweU0S8Ia22",
        "outputId": "3498771e-7d4d-4c0d-e30d-88b080f1d3b1",
        "colab": {
          "base_uri": "https://localhost:8080/"
        }
      },
      "execution_count": 288,
      "outputs": [
        {
          "output_type": "stream",
          "name": "stdout",
          "text": [
            "Best score: 0.7968059802922188\n",
            "Best parameters: {'classifier__colsample_bytree': 0.8855191286997098, 'classifier__learning_rate': 0.06301504199232014, 'classifier__max_depth': 4, 'classifier__n_estimators': 105, 'classifier__reg_lambda': 0.038203659101409215, 'classifier__subsample': 0.9127803070272753, 'col_transformer__categorical__imputer__add_indicator': False, 'col_transformer__categorical__imputer__strategy': 'constant', 'col_transformer__categorical__reducer__n_components': 13, 'col_transformer__numerical__imputer__add_indicator': True, 'col_transformer__numerical__imputer__n_neighbors': 11}\n"
          ]
        }
      ]
    },
    {
      "cell_type": "markdown",
      "source": [
        "## **Model Evaluation**"
      ],
      "metadata": {
        "id": "vv4FmDsGhbFO"
      }
    },
    {
      "cell_type": "code",
      "source": [
        "# use model to predict new observations\n",
        "y_pred = random_search.predict(X_test)\n",
        "print(classification_report(y_test, y_pred))"
      ],
      "metadata": {
        "id": "l8W22bV9hdRR",
        "outputId": "2a2ae799-7830-40bc-e929-4753e506fea7",
        "colab": {
          "base_uri": "https://localhost:8080/"
        }
      },
      "execution_count": 289,
      "outputs": [
        {
          "output_type": "stream",
          "name": "stdout",
          "text": [
            "              precision    recall  f1-score   support\n",
            "\n",
            "           0       0.85      0.85      0.85       162\n",
            "           1       0.75      0.76      0.76       100\n",
            "\n",
            "    accuracy                           0.81       262\n",
            "   macro avg       0.80      0.80      0.80       262\n",
            "weighted avg       0.81      0.81      0.81       262\n",
            "\n"
          ]
        }
      ]
    },
    {
      "cell_type": "markdown",
      "source": [
        "The accuracy of our model on the test dataset is about 77 percent. The Accuracy is defined as the number of correct predictions made by the model divided by the total number of predictions made. For example, if a model makes 1000 predictions and 850 of them are correct, the model's accuracy is 85%. The main disadvantage of accuracy is that it masks the issue of class imbalance. For example, if a model predicts the most common class all the time it will have a high accuracy, even though it is not true."
      ],
      "metadata": {
        "id": "32fi0bvzmbCh"
      }
    },
    {
      "cell_type": "markdown",
      "source": [
        "### **ROC curve**"
      ],
      "metadata": {
        "id": "YlZCVf5K5aV2"
      }
    },
    {
      "cell_type": "code",
      "source": [
        "optimized_disp = RocCurveDisplay.from_estimator(random_search, X_test, y_test)"
      ],
      "metadata": {
        "id": "BrQyMmcs5HUM",
        "outputId": "b6dbfb82-92e8-4333-d7ee-d5520668e2bf",
        "colab": {
          "base_uri": "https://localhost:8080/",
          "height": 279
        }
      },
      "execution_count": 290,
      "outputs": [
        {
          "output_type": "display_data",
          "data": {
            "text/plain": [
              "<Figure size 432x288 with 1 Axes>"
            ],
            "image/png": "[encoded data removed]"
          },
          "metadata": {
            "needs_background": "light"
          }
        }
      ]
    },
    {
      "cell_type": "markdown",
      "source": [
        "The **ROC curve** is a useful tool for evaluating the performance of a binary classifier, as it allows you to visualize the trade-off between the true positive rate and the false positive rate. A classifier that is more accurate will have a higher true positive rate and a lower false positive rate, resulting in a ROC curve that is closer to the top left corner of the plot. On the other hand, a classifier that is less accurate will have a lower true positive rate and a higher false positive rate, resulting in a ROC curve that is farther from the top left corner of the plot.\n",
        "\n",
        "The **area under the ROC curve (AUC)** is a measure of the classifier's overall accuracy, with a value of 1.0 representing perfect accuracy and a value of 0.5 representing no better than random guessing. The AUC can be used to compare the performance of different classifiers, with a higher AUC indicating a better performing classifier."
      ],
      "metadata": {
        "id": "tdUEQDMw7yZi"
      }
    },
    {
      "cell_type": "markdown",
      "source": [
        "### **Confusion matrix**"
      ],
      "metadata": {
        "id": "CujKyNrTh9gL"
      }
    },
    {
      "cell_type": "code",
      "source": [
        "plot_confusion_matrix(random_search, X_test, y_test, cmap=plt.cm.Blues, normalize='true')\n",
        "plt.show()"
      ],
      "metadata": {
        "id": "3_Rv2Nq9iAck",
        "outputId": "fc58415c-5ef1-49b6-e337-43c97668e4f7",
        "colab": {
          "base_uri": "https://localhost:8080/",
          "height": 335
        }
      },
      "execution_count": 291,
      "outputs": [
        {
          "output_type": "stream",
          "name": "stderr",
          "text": [
            "/usr/local/lib/python3.8/dist-packages/sklearn/utils/deprecation.py:87: FutureWarning: Function plot_confusion_matrix is deprecated; Function `plot_confusion_matrix` is deprecated in 1.0 and will be removed in 1.2. Use one of the class methods: ConfusionMatrixDisplay.from_predictions or ConfusionMatrixDisplay.from_estimator.\n",
            "  warnings.warn(msg, category=FutureWarning)\n"
          ]
        },
        {
          "output_type": "display_data",
          "data": {
            "text/plain": [
              "<Figure size 432x288 with 2 Axes>"
            ],
            "image/png": "[encoded data removed]"
          },
          "metadata": {
            "needs_background": "light"
          }
        }
      ]
    },
    {
      "cell_type": "markdown",
      "source": [
        "The confusion matrix shows that our model performs well to predict the death (True label = 0, Predicted label = 0) class and survival of those passengers who actually died (True label = 0, Predicted label = 1), but performs rather poorly on those who lived (True label = 1, Predicted labl = 1)."
      ],
      "metadata": {
        "id": "ZRNgyNAko8-g"
      }
    },
    {
      "cell_type": "markdown",
      "source": [
        "The confusion matrix is a useful tool for understanding the strengths and weaknesses of a model. The importance of the confusion matrix lies in the fact that it provides a detailed breakdown of the model's performance. For example, if the model is highly accurate but has a large number of false negatives, it might not be suitable for a task where it is important to identify all the positive samples. On the other hand, if the model has a large number of false positives, it might not be suitable for a task where it is important to avoid false alarms."
      ],
      "metadata": {
        "id": "4QnoHYMTos9f"
      }
    }
  ]
}